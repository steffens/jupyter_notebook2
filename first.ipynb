{
 "metadata": {
  "language_info": {
   "codemirror_mode": {
    "name": "ipython",
    "version": 3
   },
   "file_extension": ".py",
   "mimetype": "text/x-python",
   "name": "python",
   "nbconvert_exporter": "python",
   "pygments_lexer": "ipython3",
   "version": "3.8.3-final"
  },
  "orig_nbformat": 2,
  "kernelspec": {
   "name": "python3",
   "display_name": "Python 3.8.3 64-bit ('venv')",
   "metadata": {
    "interpreter": {
     "hash": "b6e204707cbf45db88e7b8ad32386f663dd35ae8196144c57c3baf0b621c16ff"
    }
   }
  }
 },
 "nbformat": 4,
 "nbformat_minor": 2,
 "cells": [
  {
   "cell_type": "code",
   "execution_count": null,
   "metadata": {},
   "outputs": [],
   "source": [
    "msg = \"hello world\"\n",
    "print(msg)"
   ]
  },
  {
   "cell_type": "code",
   "execution_count": 4,
   "metadata": {},
   "outputs": [
    {
     "output_type": "execute_result",
     "data": {
      "text/plain": [
       "                                                             Meta Data  \\\n",
       "1. Information       Intraday (5min) open, high, low, close prices ...   \n",
       "2. Symbol                                                          IBM   \n",
       "3. Last Refreshed                                  2021-03-08 19:50:00   \n",
       "4. Interval                                                       5min   \n",
       "5. Output Size                                                 Compact   \n",
       "...                                                                ...   \n",
       "2021-03-08 09:15:00                                                NaN   \n",
       "2021-03-08 09:10:00                                                NaN   \n",
       "2021-03-08 09:05:00                                                NaN   \n",
       "2021-03-08 08:50:00                                                NaN   \n",
       "2021-03-08 08:30:00                                                NaN   \n",
       "\n",
       "                                                    Time Series (5min)  \n",
       "1. Information                                                     NaN  \n",
       "2. Symbol                                                          NaN  \n",
       "3. Last Refreshed                                                  NaN  \n",
       "4. Interval                                                        NaN  \n",
       "5. Output Size                                                     NaN  \n",
       "...                                                                ...  \n",
       "2021-03-08 09:15:00  {'1. open': '122.5500', '2. high': '122.7300',...  \n",
       "2021-03-08 09:10:00  {'1. open': '122.6900', '2. high': '122.7000',...  \n",
       "2021-03-08 09:05:00  {'1. open': '122.7300', '2. high': '122.7300',...  \n",
       "2021-03-08 08:50:00  {'1. open': '122.4400', '2. high': '122.4400',...  \n",
       "2021-03-08 08:30:00  {'1. open': '122.5000', '2. high': '122.5000',...  \n",
       "\n",
       "[106 rows x 2 columns]"
      ],
      "text/html": "<div>\n<style scoped>\n    .dataframe tbody tr th:only-of-type {\n        vertical-align: middle;\n    }\n\n    .dataframe tbody tr th {\n        vertical-align: top;\n    }\n\n    .dataframe thead th {\n        text-align: right;\n    }\n</style>\n<table border=\"1\" class=\"dataframe\">\n  <thead>\n    <tr style=\"text-align: right;\">\n      <th></th>\n      <th>Meta Data</th>\n      <th>Time Series (5min)</th>\n    </tr>\n  </thead>\n  <tbody>\n    <tr>\n      <th>1. Information</th>\n      <td>Intraday (5min) open, high, low, close prices ...</td>\n      <td>NaN</td>\n    </tr>\n    <tr>\n      <th>2. Symbol</th>\n      <td>IBM</td>\n      <td>NaN</td>\n    </tr>\n    <tr>\n      <th>3. Last Refreshed</th>\n      <td>2021-03-08 19:50:00</td>\n      <td>NaN</td>\n    </tr>\n    <tr>\n      <th>4. Interval</th>\n      <td>5min</td>\n      <td>NaN</td>\n    </tr>\n    <tr>\n      <th>5. Output Size</th>\n      <td>Compact</td>\n      <td>NaN</td>\n    </tr>\n    <tr>\n      <th>...</th>\n      <td>...</td>\n      <td>...</td>\n    </tr>\n    <tr>\n      <th>2021-03-08 09:15:00</th>\n      <td>NaN</td>\n      <td>{'1. open': '122.5500', '2. high': '122.7300',...</td>\n    </tr>\n    <tr>\n      <th>2021-03-08 09:10:00</th>\n      <td>NaN</td>\n      <td>{'1. open': '122.6900', '2. high': '122.7000',...</td>\n    </tr>\n    <tr>\n      <th>2021-03-08 09:05:00</th>\n      <td>NaN</td>\n      <td>{'1. open': '122.7300', '2. high': '122.7300',...</td>\n    </tr>\n    <tr>\n      <th>2021-03-08 08:50:00</th>\n      <td>NaN</td>\n      <td>{'1. open': '122.4400', '2. high': '122.4400',...</td>\n    </tr>\n    <tr>\n      <th>2021-03-08 08:30:00</th>\n      <td>NaN</td>\n      <td>{'1. open': '122.5000', '2. high': '122.5000',...</td>\n    </tr>\n  </tbody>\n</table>\n<p>106 rows × 2 columns</p>\n</div>"
     },
     "metadata": {},
     "execution_count": 4
    }
   ],
   "source": [
    "# https://www.alphavantage.co/query?function=TIME_SERIES_INTRADAY&symbol=IBM&interval=5min&apikey=demo\n",
    "# API key: SXBYK3C9D0F86KI3\n",
    "\n",
    "import pandas as pd\n",
    "url = \"https://www.alphavantage.co/query?function=TIME_SERIES_INTRADAY&symbol=IBM&interval=5min&apikey=SXBYK3C9D0F86KI3\"\n",
    "data = pd.read_json(url)\n",
    "data.head()"
   ]
  },
  {
   "cell_type": "code",
   "execution_count": null,
   "metadata": {},
   "outputs": [],
   "source": []
  }
 ]
}