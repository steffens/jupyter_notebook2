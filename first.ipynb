{
 "metadata": {
  "language_info": {
   "codemirror_mode": {
    "name": "ipython",
    "version": 3
   },
   "file_extension": ".py",
   "mimetype": "text/x-python",
   "name": "python",
   "nbconvert_exporter": "python",
   "pygments_lexer": "ipython3",
   "version": "3.8.3-final"
  },
  "orig_nbformat": 2,
  "kernelspec": {
   "name": "python3",
   "display_name": "Python 3.8.3 64-bit ('venv')",
   "metadata": {
    "interpreter": {
     "hash": "b6e204707cbf45db88e7b8ad32386f663dd35ae8196144c57c3baf0b621c16ff"
    }
   }
  }
 },
 "nbformat": 4,
 "nbformat_minor": 2,
 "cells": [
  {
   "cell_type": "code",
   "execution_count": null,
   "metadata": {},
   "outputs": [],
   "source": [
    "msg = \"hello world\"\n",
    "print(msg)"
   ]
  },
  {
   "cell_type": "code",
   "execution_count": 12,
   "metadata": {},
   "outputs": [
    {
     "output_type": "execute_result",
     "data": {
      "text/plain": [
       "<bound method NDFrame.describe of                                                              Meta Data  \\\n",
       "1. Information       Intraday (5min) open, high, low, close prices ...   \n",
       "2. Symbol                                                          IBM   \n",
       "3. Last Refreshed                                  2021-03-08 19:50:00   \n",
       "4. Interval                                                       5min   \n",
       "5. Output Size                                                 Compact   \n",
       "...                                                                ...   \n",
       "2021-03-08 09:15:00                                                NaN   \n",
       "2021-03-08 09:10:00                                                NaN   \n",
       "2021-03-08 09:05:00                                                NaN   \n",
       "2021-03-08 08:50:00                                                NaN   \n",
       "2021-03-08 08:30:00                                                NaN   \n",
       "\n",
       "                                                    Time Series (5min)  \n",
       "1. Information                                                     NaN  \n",
       "2. Symbol                                                          NaN  \n",
       "3. Last Refreshed                                                  NaN  \n",
       "4. Interval                                                        NaN  \n",
       "5. Output Size                                                     NaN  \n",
       "...                                                                ...  \n",
       "2021-03-08 09:15:00  {'1. open': '122.5500', '2. high': '122.7300',...  \n",
       "2021-03-08 09:10:00  {'1. open': '122.6900', '2. high': '122.7000',...  \n",
       "2021-03-08 09:05:00  {'1. open': '122.7300', '2. high': '122.7300',...  \n",
       "2021-03-08 08:50:00  {'1. open': '122.4400', '2. high': '122.4400',...  \n",
       "2021-03-08 08:30:00  {'1. open': '122.5000', '2. high': '122.5000',...  \n",
       "\n",
       "[106 rows x 2 columns]>"
      ]
     },
     "metadata": {},
     "execution_count": 12
    }
   ],
   "source": [
    "# https://www.alphavantage.co/query?function=TIME_SERIES_INTRADAY&symbol=IBM&interval=5min&apikey=demo\n",
    "# API key: SXBYK3C9D0F86KI3\n",
    "\n",
    "import pandas as pd\n",
    "url = \"https://www.alphavantage.co/query?function=TIME_SERIES_INTRADAY&symbol=IBM&interval=5min&apikey=SXBYK3C9D0F86KI3\"\n",
    "df = pd.read_json(url)\n",
    "df.head()\n",
    "df.tail(2)\n",
    "df.index\n",
    "df.describe"
   ]
  },
  {
   "cell_type": "code",
   "execution_count": null,
   "metadata": {},
   "outputs": [],
   "source": []
  }
 ]
}